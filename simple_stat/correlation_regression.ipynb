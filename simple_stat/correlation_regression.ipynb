{
 "cells": [
  {
   "cell_type": "markdown",
   "metadata": {},
   "source": [
    "<img src=\"img/z13.png\">\n",
    "<img src=\"img/z14.png\">"
   ]
  },
  {
   "cell_type": "code",
   "execution_count": 9,
   "metadata": {
    "collapsed": false
   },
   "outputs": [
    {
     "data": {
      "image/png": "[encoded data removed]",
      "text/plain": [
       "<matplotlib.figure.Figure at 0x7f67e04ee910>"
      ]
     },
     "metadata": {},
     "output_type": "display_data"
    },
    {
     "name": "stdout",
     "output_type": "stream",
     "text": [
      "(0.88246909154562514, 0.00072273782874416475)\n"
     ]
    }
   ],
   "source": [
    "from scipy.stats import norm\n",
    "import numpy as np\n",
    "from scipy.stats import t\n",
    "from scipy.stats import chi2\n",
    "import pandas as pd\n",
    "import matplotlib.pyplot as plt\n",
    "\n",
    "%matplotlib inline\n",
    "a=[1.6,3.6,4.9,1.1,0.9,2.9,2.7,2.3,1.6,1.5]\n",
    "b=[428.2,828.8,1214.2,444.6,264.0,415.3,571.8,454.9,358.7,573.5]\n",
    "datas=zip(a,b)\n",
    "bd=pd.DataFrame(datas)\n",
    "bd.columns=[\"x\",\"y\"]\n",
    "plt.plot(bd.x,bd.y,\"o\")\n",
    "plt.show()\n",
    "from scipy.stats import pearsonr\n",
    "print pearsonr(bd.x,bd.y)\n",
    "r=pearsonr(bd.x,bd.y)"
   ]
  },
  {
   "cell_type": "markdown",
   "metadata": {},
   "source": [
    "The Pearson correlation coefficient measures the linear relationship between two datasets. Strictly speaking, Pearson’s correlation requires that each dataset be normally distributed. Like other correlation coefficients, this one varies between -1 and +1 with 0 implying no correlation. Correlations of -1 or +1 imply an exact linear relationship. Positive correlations imply that as x increases, so does y. Negative correlations imply that as x increases, y decreases.\n",
    "\n",
    "The p-value roughly indicates the probability of an uncorrelated system producing datasets that have a Pearson correlation at least as extreme as the one computed from these datasets. The p-values are not entirely reliable but are probably reasonable for datasets larger than 500 or so.\n",
    "Parameters:\t\n",
    "\n"
   ]
  },
  {
   "cell_type": "markdown",
   "metadata": {},
   "source": [
    "you used 10 pairs of data to find r arounbd 0.882. Test the\n",
    "significance of this correlation coefficient. Use alpha = 0.05."
   ]
  },
  {
   "cell_type": "markdown",
   "metadata": {},
   "source": [
    "The null and alternative hypotheses are\n",
    "Ho r=0 (no correlation) and Ha r!=0 (significant correlation)\n",
    "Becayse there are 10 pairs of data samole there are 10-2 = 8 degrees of freedom . Because the test is a two tailed test, alpha = 0.05 abd d.f., =8 the critical values are -to = -2.306 and to = 2.306 . The rejection regions are t<-2.306 and t>2.306 Using the t test , the standatdized test statistic is "
   ]
  },
  {
   "cell_type": "code",
   "execution_count": 19,
   "metadata": {
    "collapsed": false
   },
   "outputs": [
    {
     "name": "stdout",
     "output_type": "stream",
     "text": [
      "5.30645545681\n",
      "(-2.3060041350333704, 2.3060041350333704)\n",
      "(0.88246909154562514, 0.00072273782874416475)\n"
     ]
    },
    {
     "data": {
      "text/plain": [
       "0.00073368498401915616"
      ]
     },
     "execution_count": 19,
     "metadata": {},
     "output_type": "execute_result"
    }
   ],
   "source": [
    "df=10-2\n",
    "tt=r[0]/np.sqrt((1-r[0]**2)/df)\n",
    "print tt\n",
    "print t.interval(1-0.05,df)\n",
    "print r\n",
    "(1-t.cdf(5.294,df))*2"
   ]
  },
  {
   "cell_type": "markdown",
   "metadata": {},
   "source": [
    "<img src=\"img/zz15.png\">\n",
    "Because t is in the rejection region, you should decide to reject the null\n",
    "hypothesis.\n",
    "Interpretation There is enough evidence at the 5% level of significance to\n",
    "conclude that there is a significant linear correlation between gross domestic\n",
    "products and carbon dioxide emissions."
   ]
  }
 ],
 "metadata": {
  "anaconda-cloud": {},
  "kernelspec": {
   "display_name": "Python [conda root]",
   "language": "python",
   "name": "conda-root-py"
  },
  "language_info": {
   "codemirror_mode": {
    "name": "ipython",
    "version": 2
   },
   "file_extension": ".py",
   "mimetype": "text/x-python",
   "name": "python",
   "nbconvert_exporter": "python",
   "pygments_lexer": "ipython2",
   "version": "2.7.12"
  }
 },
 "nbformat": 4,
 "nbformat_minor": 0
}
