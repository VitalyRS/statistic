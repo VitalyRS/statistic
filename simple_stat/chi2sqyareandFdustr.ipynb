{
 "cells": [
  {
   "cell_type": "markdown",
   "metadata": {},
   "source": [
    "A chi-square goodness-of-fit test is used to test whether a frequency\n",
    "distribution fits an expected distribution\n",
    "<img src=\"img/y01.png\">\n",
    "<img src=\"img/q3.png\">"
   ]
  },
  {
   "cell_type": "markdown",
   "metadata": {},
   "source": [
    "The tax preparation methods of adults from a previous survey are distributed\n",
    "as shown in the table at the left below. A tax preparation company randomly\n",
    "selects 300 adults and asks them how they prepare their taxes. The results\n",
    "are shown in the table at the right below. At a = 0.01, perform a chi-square\n",
    "goodness-of-fit test to test whether the distributions are different. (Adapted\n",
    "                                                                       \n",
    "<img src=\"img/q2.png\">                                                                       "
   ]
  },
  {
   "cell_type": "markdown",
   "metadata": {},
   "source": [
    "The observed and expected frequencies are shown in the table at the left.\n",
    "The expected frequencies were calculated in Example 1. Because the observed\n",
    "frequencies were obtained using a random sample and each expected\n",
    "frequency is at least 5, you can use the chi-square goodness-of-fit test to test\n",
    "the proposed distribution. The null and alternative hypotheses are as follows. <br>\n",
    "Ho : The distribution of tax preparation methods is 25% by accountant,\n",
    "20% by hand, 35% by computer software, 5% by friend or family, and\n",
    "15% by tax preparation service.\n",
    "\n",
    "Ha : The distribution of tax preparation methods differs from the claimed\n",
    "or expected distribution. (Claim)"
   ]
  },
  {
   "cell_type": "markdown",
   "metadata": {},
   "source": [
    "<img src=\"img/x11.png\">"
   ]
  },
  {
   "cell_type": "code",
   "execution_count": 9,
   "metadata": {
    "collapsed": false
   },
   "outputs": [
    {
     "name": "stdout",
     "output_type": "stream",
     "text": [
      "35.1212698413\n",
      "13.276704136\n"
     ]
    }
   ],
   "source": [
    "xi2=(71-75)**2/75.0+(40-60)**2/60.0+(101-105)**2/105.0+(35-15)**2/15.0+(53-45)**2/45.0\n",
    "print xi2\n",
    "from scipy.stats import chi2\n",
    "print chi2.ppf(0.99,4)"
   ]
  },
  {
   "cell_type": "markdown",
   "metadata": {},
   "source": [
    "he graph at the left shows the location of the rejection region. Because x 2 is\n",
    "in the rejection region, you should reject the null hypothesis.\n",
    "Interpretation There is enough evidence at the 1% level of significance to\n",
    "conclude that the distribution of tax preparation methods differs from the\n",
    "previous survey’s claimed or expected distribution.\n",
    "<img src=\"img/d1.png\">"
   ]
  },
  {
   "cell_type": "markdown",
   "metadata": {},
   "source": [
    "A chi-square independence test is used to test the independence of two\n",
    "variables. Using a chi-square test, you can determine whether the occurrence\n",
    "of one variable affects the probability of the occurrence of the other variable.\n",
    "<img src=\"img/s1.png\">\n",
    "<img src=\"img/s7.png\">"
   ]
  },
  {
   "cell_type": "markdown",
   "metadata": {},
   "source": [
    "<img src=\"img/s4.png\">"
   ]
  },
  {
   "cell_type": "markdown",
   "metadata": {},
   "source": [
    "Solution \n",
    "<img src=\"img/s20.png\">\n",
    "<img src=\"img/s21.png\">\n",
    "<img src=\"img/s23.png\">"
   ]
  },
  {
   "cell_type": "markdown",
   "metadata": {},
   "source": [
    "<img src=\"img/s25.png\">"
   ]
  },
  {
   "cell_type": "markdown",
   "metadata": {},
   "source": [
    "<img src=\"img/b1.png\">"
   ]
  },
  {
   "cell_type": "markdown",
   "metadata": {},
   "source": [
    "A restaurant manager is designing a system that is intended to decrease the\n",
    "variance of the time customers wait before their meals are served. Under the\n",
    "old system, a random sample of 10 customers had a variance of 400. Under the\n",
    "new system, a random sample of 21 customers had a variance of 256. At\n",
    "a = 0.10, is there enough evidence to convince the manager to switch to the\n",
    "new system? Assume both populations are normally distributed\n"
   ]
  },
  {
   "cell_type": "code",
   "execution_count": 13,
   "metadata": {
    "collapsed": false
   },
   "outputs": [
    {
     "data": {
      "text/plain": [
       "1.9648533022616927"
      ]
     },
     "execution_count": 13,
     "metadata": {},
     "output_type": "execute_result"
    }
   ],
   "source": [
    "from scipy.stats import f\n",
    "f.ppf(0.9,9,20)\n",
    "# pdf(x, dfn, dfd, loc=0, scale=1)"
   ]
  },
  {
   "cell_type": "markdown",
   "metadata": {},
   "source": [
    "<img src=\"img/v1.png\">"
   ]
  }
 ],
 "metadata": {
  "anaconda-cloud": {},
  "kernelspec": {
   "display_name": "Python [conda root]",
   "language": "python",
   "name": "conda-root-py"
  },
  "language_info": {
   "codemirror_mode": {
    "name": "ipython",
    "version": 2
   },
   "file_extension": ".py",
   "mimetype": "text/x-python",
   "name": "python",
   "nbconvert_exporter": "python",
   "pygments_lexer": "ipython2",
   "version": "2.7.12"
  }
 },
 "nbformat": 4,
 "nbformat_minor": 0
}
