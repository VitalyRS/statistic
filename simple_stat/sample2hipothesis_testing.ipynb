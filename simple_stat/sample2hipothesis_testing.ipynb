{
 "cells": [
  {
   "cell_type": "markdown",
   "metadata": {},
   "source": [
    "<img src=\"img/x4.png\">"
   ]
  },
  {
   "cell_type": "code",
   "execution_count": 1,
   "metadata": {
    "collapsed": false
   },
   "outputs": [],
   "source": [
    "from scipy.stats import norm\n",
    "import numpy as np\n",
    "from scipy.stats import t\n",
    "from scipy.stats import chi2"
   ]
  },
  {
   "cell_type": "markdown",
   "metadata": {},
   "source": [
    "A credit card watchdog group claims that there is a difference in the mean\n",
    "credit card debts of households in New York and Texas. The results of a\n",
    "random survey of 250 households from each state are shown at the left. The\n",
    "two samples are independent. Do the results support the group’s claim? Use\n",
    "a = 0.05. (Adapted from PlasticRewards.com)"
   ]
  },
  {
   "cell_type": "markdown",
   "metadata": {},
   "source": [
    "The claim is “there is a difference in the mean credit card debts of households\n",
    "in New York and Texas.” So, the null and alternative hypotheses are\n",
    "Ho: mu1=mu2 and Ha mu1!=mu2\n",
    "Because the test is a two-tailed test and the level of significance is a = 0.05,\n",
    "the critical values are -zo = -1.96 and zo = 1.96. The rejection regions are\n",
    "z< -1.96 and z > 1.96. Because both samples are large, sigma_1 and sigma_2 can be\n",
    "used in place of sigma_1 and sigma_2 to calculate the standard error.\n",
    "\n",
    "<img src=\"img/x7.png\">"
   ]
  },
  {
   "cell_type": "code",
   "execution_count": 8,
   "metadata": {
    "collapsed": false
   },
   "outputs": [
    {
     "name": "stdout",
     "output_type": "stream",
     "text": [
      "(-1.959963984540054, 1.959963984540054)\n",
      "108.59827425\n",
      "-1.11410610192\n"
     ]
    }
   ],
   "source": [
    "print norm.interval(1-0.05)\n",
    "sigma1_2=np.sqrt((1045.70**2/250+1361.95**2/250))\n",
    "print sigma1_2\n",
    "z=((4446.25-4567.24)-0)/sigma1_2 \n",
    "print z"
   ]
  },
  {
   "cell_type": "markdown",
   "metadata": {},
   "source": [
    "The graph at the left shows the location of the rejection regions and the\n",
    "standardized test statistic z. Because z is not in the rejection region, you should\n",
    "fail to reject the null hypothesis.\n",
    "Interpretation There is not enough evidence at the 5% level of significance\n",
    "to support the group’s claim that there is a difference in the mean credit card\n",
    "debts of households in New York and Texas.\n",
    "<img src=\"img/x8.png\">"
   ]
  },
  {
   "cell_type": "markdown",
   "metadata": {},
   "source": [
    "<img src=\"img/x9.png\">"
   ]
  },
  {
   "cell_type": "markdown",
   "metadata": {},
   "source": [
    "\u0002 A Two-Sample t-Test for the Difference Between Means\n",
    "The results of a state mathematics test for random samples of students taught\n",
    "by two different teachers at the same school are shown at the left. Can you\n",
    "conclude that there is a difference in the mean mathematics test scores for the\n",
    "students of the two teachers? Use a = 0.10. Assume the populations are\n",
    "normally distributed and the population variances are not equal.\n",
    "\n",
    "<img src=\"img/z10.png\">"
   ]
  },
  {
   "cell_type": "markdown",
   "metadata": {},
   "source": [
    "The claim is “there is a difference in the mean mathematics test scores for the\n",
    "students of the two teachers.” So, the null and alternative hypotheses are\n",
    "Ho : mu1 = mu2\n",
    "and\n",
    "Ha : m1 != mu2 . (Claim)\n",
    "Because the variances are not equal and the smaller sample size is 8, use\n",
    "d.f. = 8 - 1 = 7. Because the test is a two-tailed test with d.f. = 7 and\n",
    "a = 0.10, the critical values are -t0 = -1.895 and t0 = 1.895. The rejection\n",
    "regions are t < -1.895 and t > 1.895. The standard error is"
   ]
  },
  {
   "cell_type": "code",
   "execution_count": 13,
   "metadata": {
    "collapsed": false
   },
   "outputs": [
    {
     "name": "stdout",
     "output_type": "stream",
     "text": [
      "(-1.8945786050613054, 1.8945786050613049)\n",
      "15.1775647659\n",
      "0.922414116887\n"
     ]
    }
   ],
   "source": [
    "print t.interval(1-0.1,7)\n",
    "s1_2=np.sqrt(39.7**2/8+24.5**2/18)\n",
    "print s1_2\n",
    "tt= ((473-459)-0 )/s1_2\n",
    "print tt"
   ]
  },
  {
   "cell_type": "markdown",
   "metadata": {},
   "source": [
    "The graph at the left shows the location of the rejection regions and the\n",
    "standardized test statistic t. Because t is not in the rejection region, you should\n",
    "fail to reject the null hypothesis.\n",
    "Interpretation There is not enough evidence at the 10% level of significance\n",
    "to support the claim that the mean mathematics test scores for the students of\n",
    "the two teachers are different.\n",
    "\n",
    "<img src=\"img/z11.png\">"
   ]
  },
  {
   "cell_type": "code",
   "execution_count": null,
   "metadata": {
    "collapsed": true
   },
   "outputs": [],
   "source": []
  }
 ],
 "metadata": {
  "anaconda-cloud": {},
  "kernelspec": {
   "display_name": "Python [conda root]",
   "language": "python",
   "name": "conda-root-py"
  },
  "language_info": {
   "codemirror_mode": {
    "name": "ipython",
    "version": 2
   },
   "file_extension": ".py",
   "mimetype": "text/x-python",
   "name": "python",
   "nbconvert_exporter": "python",
   "pygments_lexer": "ipython2",
   "version": "2.7.12"
  }
 },
 "nbformat": 4,
 "nbformat_minor": 0
}
