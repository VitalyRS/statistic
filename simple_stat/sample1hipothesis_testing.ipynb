{
 "cells": [
  {
   "cell_type": "markdown",
   "metadata": {},
   "source": [
    "In a hypothesis test, the level of significance is your maximum allowable\n",
    "probability of making a type I error. It is denoted by <b>alpha</b> , the lowercase Greek\n",
    "letter alpha.\n",
    "The probability of a type II error is denoted by <b>betta</b>, the lowercase Greek\n",
    "letter beta.\n",
    "<br>\n",
    "By setting the level of significance at a small value, you are saying that you want the probability of rejecting a true null hypothesis to be small. <br>\n",
    "Three  commonly used levels of significance are <br>\n",
    "<b>alpha = 0.10 </b><br>\n",
    "<b>alpha = 0.05 </b><br>\n",
    "<b>and alpha = 0.01.</b> <br>\n",
    "A <b>type I error</b> occurs if the null hypothesis is rejected when it is true. <br>\n",
    "A <b>type II error</b> occurs if the null hypothesis is not rejected when it is false."
   ]
  },
  {
   "cell_type": "markdown",
   "metadata": {},
   "source": [
    "<img src=\"img/h1.png\">\n",
    "<img src=\"img/h2.png\">\n",
    "<img src=\"img/h3.png\">\n",
    "\n"
   ]
  },
  {
   "cell_type": "markdown",
   "metadata": {},
   "source": [
    "<img src=\"img/h4.png\">"
   ]
  },
  {
   "cell_type": "markdown",
   "metadata": {},
   "source": [
    "\u0002 Interpreting a P-Value\n",
    "The P-value for a hypothesis test is P = 0.0237. What is your decision if the\n",
    "level of significance is (1) a = 0.05 and (2) a = 0.01?\n",
    "\u0002 Solution\n",
    "1. Because 0.0237 < 0.05, you should reject the null hypothesis.\n",
    "2. Because 0.0237 > 0.01, you should fail to reject the null hypothesis."
   ]
  },
  {
   "cell_type": "markdown",
   "metadata": {},
   "source": [
    "In auto racing, a pit stop is where a racing vehicle stops for new tires, fuel,\n",
    "repairs, and other mechanical adjustments. The efficiency of a pit crew that\n",
    "makes these adjustments can affect the outcome of a race. A pit crew claims\n",
    "that its mean pit stop time (for 4 new tires and fuel) is less than 13 seconds. A\n",
    "random selection of 32 pit stop times has a sample mean of 12.9 seconds and a\n",
    "standard deviation of 0.19 second. Is there enough evidence to support the\n",
    "claim at alpha = 0.01? Use a P-value.\n",
    "\n",
    "\n",
    "The claim is “the mean pit stop time is less than 13 seconds.” So, the null and alternative hypotheses are\n",
    "Ho : mu=> 13 seconds and Ha : m < 13 seconds. (Claim)\n",
    "The level of significance is alpha = 0.01. The standardized test statistic is:"
   ]
  },
  {
   "cell_type": "markdown",
   "metadata": {},
   "source": [
    "USING P-VALUES FOR A z-TEST <br>\n",
    "The z-test for the mean is used in populations for which the sampling distribution\n",
    "of sample means is normal. To use the z-test, you need to find the standardized\n",
    "value for your test statistic x.\n",
    "<img src=\"img/z1.png\">\n",
    "<img src=\"img/z2.png\">\n"
   ]
  },
  {
   "cell_type": "code",
   "execution_count": 1,
   "metadata": {
    "collapsed": false
   },
   "outputs": [
    {
     "name": "stdout",
     "output_type": "stream",
     "text": [
      "12.5579939039\n",
      "-2.97729171026\n",
      "0.0014540358485 False\n"
     ]
    }
   ],
   "source": [
    "from scipy.stats import norm\n",
    "import numpy as np\n",
    "loc=13 # mean \n",
    "#12.9 #sample mean\n",
    "#stamdart deviation 0.19\n",
    "scale=0.19 # sample mean \n",
    "alpha=0.01\n",
    "print norm.ppf(alpha,loc,scale)\n",
    "z=(12.9-13)/(0.19/np.sqrt(32))\n",
    "print z\n",
    "P=norm.cdf(z)\n",
    "print P,P>alpha\n",
    "\n",
    "\n"
   ]
  },
  {
   "cell_type": "markdown",
   "metadata": {},
   "source": [
    "Because the P-value is less than a = 0.01, you\n",
    "should decide to reject the null hypothesis.\n",
    "Interpretation There is enough evidence at the 1% level of significance to\n",
    "support the claim that the mean pit stop time is less than 13 seconds."
   ]
  },
  {
   "cell_type": "markdown",
   "metadata": {},
   "source": [
    "the t teast for a mean mu (n<30 and sigma is not known)\n",
    "\n",
    "\n"
   ]
  },
  {
   "cell_type": "markdown",
   "metadata": {},
   "source": [
    "<img src=\"img/t1.png\">"
   ]
  },
  {
   "cell_type": "markdown",
   "metadata": {},
   "source": [
    "A used car dealer says that the mean price of a 2008 Honda CR-V is at least 20,500 dollar. You suspect this claim is incorrect and find that a random sample of\n",
    "14 similar vehicles has a mean price of 19,850 dollars and a standard deviation of 1084 dollars. Is there enough evidence to reject the dealer’s claim at <b>alpha</b> = 0.05? Assume the population is normally distributed. (Adapted from Kelley Blue Book)"
   ]
  },
  {
   "cell_type": "markdown",
   "metadata": {},
   "source": [
    "The claim is “the mean price is at least 20,500. dollars” So, the null and alternative\n",
    "hypotheses are\n",
    "Ho : mu => dollars 20,500 (Claim)\n",
    "and\n",
    "Ha : mu < dollars 20,500.\n",
    "The test is a left-tailed test, the level of significance is alpha = 0.05, and the degrees\n",
    "of freedom are d.f. = 14 - 1 = 13"
   ]
  },
  {
   "cell_type": "code",
   "execution_count": 2,
   "metadata": {
    "collapsed": false
   },
   "outputs": [
    {
     "name": "stdout",
     "output_type": "stream",
     "text": [
      "-1.77093339599\n",
      "-2.24361374668\n"
     ]
    }
   ],
   "source": [
    "from scipy.stats import t\n",
    "df=13\n",
    "print t.ppf(0.05,df)\n",
    "tt=(19850-20500)/(1084/np.sqrt(14))\n",
    "print tt"
   ]
  },
  {
   "cell_type": "markdown",
   "metadata": {},
   "source": [
    "<img src=\"img/t3.png\">\n",
    "There is enough evidence\n",
    "at the 5% level of significance to reject the\n",
    "claim that the mean price of a 2008 Honda\n",
    "CR-V is at least $20,500."
   ]
  },
  {
   "cell_type": "markdown",
   "metadata": {},
   "source": [
    "An industrial company claims that the mean pH level of the water in a nearby\n",
    "river is 6.8. You randomly select 19 water samples and measure the pH of\n",
    "each. The sample mean and standard deviation are 6.7 and 0.24, respectively.\n",
    "Is there enough evidence to reject the company’s claim at alpha\n",
    "= 0.05? Assume\n",
    "the population is normally distributed."
   ]
  },
  {
   "cell_type": "markdown",
   "metadata": {},
   "source": [
    "The claim is “the mean pH level is 6.8.” So, the null and alternative hypotheses\n",
    "are\n",
    "Ho mu = 6.8 (Claim)\n",
    "and\n",
    "Ha mu!= 6.8."
   ]
  },
  {
   "cell_type": "code",
   "execution_count": 8,
   "metadata": {
    "collapsed": false
   },
   "outputs": [
    {
     "name": "stdout",
     "output_type": "stream",
     "text": [
      "(-2.1009220402409601, 2.1009220402409601)\n",
      "-1.81620789314\n"
     ]
    }
   ],
   "source": [
    "df=19-1\n",
    "print t.interval(0.95,df)\n",
    "tt=(6.7-6.8)/(0.24/np.sqrt(19))\n",
    "print tt"
   ]
  },
  {
   "cell_type": "markdown",
   "metadata": {},
   "source": [
    "There is not enough\n",
    "evidence at the 5% level of significance to\n",
    "reject the claim that the mean pH is 6.8.\n",
    "<img src=\"img/q1.png\">"
   ]
  },
  {
   "cell_type": "markdown",
   "metadata": {},
   "source": [
    "<img src=\"img/z3.png\">"
   ]
  },
  {
   "cell_type": "markdown",
   "metadata": {},
   "source": [
    "A dairy processing company claims that the variance of the amount of fat in\n",
    "the whole milk processed by the company is no more than 0.25. You suspect\n",
    "this is wrong and find that a random sample of 41 milk containers has a\n",
    "variance of 0.27. At a = 0.05, is there enough evidence to reject the company’s\n",
    "claim? Assume the population is normally distributed."
   ]
  },
  {
   "cell_type": "markdown",
   "metadata": {},
   "source": [
    "The claim is “the variance is no more than 0.25.” So, the null and alternative\n",
    "hypotheses are\n",
    "Pool Supply)\n",
    "Ho : s**2 <= 0.25 (Claim)\n",
    "and\n",
    "Ha : s**2 > 0.25.\n",
    "The test is a right-tailed test, the level of significance is a = 0.05, and the\n",
    "degrees of freedom are d.f. = 41 - 1 = 40 . So, the critical value is"
   ]
  },
  {
   "cell_type": "code",
   "execution_count": 12,
   "metadata": {
    "collapsed": false
   },
   "outputs": [
    {
     "name": "stdout",
     "output_type": "stream",
     "text": [
      "55.7584792789\n"
     ]
    },
    {
     "data": {
      "text/plain": [
       "43.2"
      ]
     },
     "execution_count": 12,
     "metadata": {},
     "output_type": "execute_result"
    }
   ],
   "source": [
    "from scipy.stats import chi2\n",
    "print chi2.ppf(1-0.05,40)\n",
    "(41-1)*0.27/0.25"
   ]
  },
  {
   "cell_type": "markdown",
   "metadata": {},
   "source": [
    "There is not enough\n",
    "evidence at the 5% level of significance to\n",
    "reject the company’s claim that the\n",
    "variance of the amount of fat in the whole\n",
    "milk is no more than 0.25.\n",
    "\n",
    "<img src=\"img/z4.png\">"
   ]
  },
  {
   "cell_type": "markdown",
   "metadata": {},
   "source": [
    "<img src=\"img/x1.png\">\n",
    "<img src=\"img/x2.png\">\n",
    "<img src=\"img/x3.png\">"
   ]
  },
  {
   "cell_type": "code",
   "execution_count": null,
   "metadata": {
    "collapsed": true
   },
   "outputs": [],
   "source": []
  }
 ],
 "metadata": {
  "anaconda-cloud": {},
  "kernelspec": {
   "display_name": "Python [conda root]",
   "language": "python",
   "name": "conda-root-py"
  },
  "language_info": {
   "codemirror_mode": {
    "name": "ipython",
    "version": 2
   },
   "file_extension": ".py",
   "mimetype": "text/x-python",
   "name": "python",
   "nbconvert_exporter": "python",
   "pygments_lexer": "ipython2",
   "version": "2.7.12"
  }
 },
 "nbformat": 4,
 "nbformat_minor": 0
}
