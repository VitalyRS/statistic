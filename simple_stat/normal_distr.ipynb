{
 "cells": [
  {
   "cell_type": "markdown",
   "metadata": {},
   "source": [
    "Finding Probabilities for Normal Distributions\n",
    "A survey indicates that for each trip to the supermarket, a shopper spends an\n",
    "average of 45 minutes with a standard deviation of 12 minutes in the store. The\n",
    "lengths of time spent in the store are normally distributed and are represented\n",
    "by the variable x. A shopper enters the store. (a) Find the probability that the\n",
    "shopper will be in the store for each interval of time listed below. (b) Interpret\n",
    "your answer if 200 shoppers enter the store. How many shoppers would you\n",
    "expect to be in the store for each interval of time listed below?\n",
    "1. Between 24 and 54 minutes\n",
    "2. More than 39 minutes"
   ]
  },
  {
   "cell_type": "code",
   "execution_count": 25,
   "metadata": {
    "collapsed": false
   },
   "outputs": [
    {
     "data": {
      "image/png": "[encoded data removed]",
      "text/plain": [
       "<matplotlib.figure.Figure at 0x7f61ecaf8e10>"
      ]
     },
     "metadata": {},
     "output_type": "display_data"
    }
   ],
   "source": [
    "import numpy as np\n",
    "import seaborn as sns\n",
    "import matplotlib.pyplot as plt\n",
    "from  scipy.stats import norm\n",
    "%matplotlib inline \n",
    "loc=45 #mean\n",
    "sigma=12 #standart deviation\n",
    "scale=sigma\n",
    "x=np.linspace(0,100,10000)\n",
    "y=norm.rvs(loc,scale,size=10000)\n",
    "standart_samples_norm=norm.pdf(x, loc, scale)\n",
    "\n",
    "plt.plot(x,standart_samples_norm,lw=3)\n",
    "plt.hist(y,normed=True,bins=50)\n",
    "plt.show()"
   ]
  },
  {
   "cell_type": "code",
   "execution_count": 10,
   "metadata": {
    "collapsed": false
   },
   "outputs": [
    {
     "name": "stdout",
     "output_type": "stream",
     "text": [
      "(-1.959963984540054, 1.959963984540054)\n"
     ]
    }
   ],
   "source": [
    "alpha=0.95\n",
    "print norm.interval(alpha,0,1)\n",
    "#Endpoints of the range that contains alpha percent\n",
    "#  of the distribution"
   ]
  },
  {
   "cell_type": "code",
   "execution_count": 3,
   "metadata": {
    "collapsed": false
   },
   "outputs": [
    {
     "name": "stdout",
     "output_type": "stream",
     "text": [
      "probability between 24 and 54:\n",
      "0.733313490759\n",
      "probability more then 39:\n",
      "0.691462461274\n"
     ]
    }
   ],
   "source": [
    "print \"probability between 24 and 54:\"\n",
    "print norm.cdf(54,loc,sigma)-norm.cdf(24,loc,sigma)\n",
    "print \"probability more then 39:\"\n",
    "print 1-norm.cdf(39,loc,sigma)"
   ]
  },
  {
   "cell_type": "markdown",
   "metadata": {},
   "source": [
    "Interpretation If 200 shoppers enter the store, then you would expect\n",
    "20010.73332 = 146.66, or about 147, shoppers to be in the store between\n",
    "24 and 54 minutes.\n",
    "\n",
    "Interpretation If 200 shoppers enter the store, then you would expect\n",
    "20010.69152 = 138.3, or about 138, shoppers to be in the store more\n",
    "than 39 minutes.\n",
    "\n"
   ]
  },
  {
   "cell_type": "code",
   "execution_count": 4,
   "metadata": {
    "collapsed": false
   },
   "outputs": [
    {
     "name": "stdout",
     "output_type": "stream",
     "text": [
      "(-0.47217763774370963, 0.47217763774370963)\n"
     ]
    }
   ],
   "source": [
    "alpha=0.3632\n",
    "print norm.interval(alpha,0,1)"
   ]
  },
  {
   "cell_type": "code",
   "execution_count": 19,
   "metadata": {
    "collapsed": false
   },
   "outputs": [
    {
     "data": {
      "text/plain": [
       "6.3613408896974217"
      ]
     },
     "execution_count": 19,
     "metadata": {},
     "output_type": "execute_result"
    }
   ],
   "source": [
    "norm.ppf(0.9999999999)"
   ]
  },
  {
   "cell_type": "markdown",
   "metadata": {},
   "source": [
    "In probability theory and statistics, the cumulative distribution function (CDF) of a real-valued random variable X, or just distribution function of X, evaluated at x, is the probability that X will take a value less than or equal to x.\n",
    "In the case of a continuous distribution, it gives the area under the probability density function from minus infinity to x. Cumulative distribution functions are also used to specify the distribution of multivariate random variables.\n",
    "https://en.wikipedia.org/wiki/Cumulative_distribution_function\n",
    "<img src=\"img/cdf.png\" alt=\"title\" > "
   ]
  },
  {
   "cell_type": "code",
   "execution_count": 7,
   "metadata": {
    "collapsed": false
   },
   "outputs": [
    {
     "name": "stdout",
     "output_type": "stream",
     "text": [
      "1.64485362695\n",
      "0.949497416526\n",
      "0.363169348824\n",
      "-0.349918317053\n"
     ]
    }
   ],
   "source": [
    "print norm.ppf(.95)\n",
    "print norm.cdf(1.64)\n",
    "print norm.cdf(-0.35)\n",
    "print norm.ppf(0.3632)\n"
   ]
  },
  {
   "cell_type": "markdown",
   "metadata": {},
   "source": [
    "<img src=\"img/c1.png\" alt=\"title\" > \n",
    "<img src=\"img/c2.png\" alt=\"title\" > "
   ]
  },
  {
   "cell_type": "markdown",
   "metadata": {},
   "source": [
    "s other users noted, Python calculates left/lower-tail probabilities by default. If you want to determine the density points  where 95% of the distribution is included, you have to take another approach: <br>\n",
    "norm.ppf(.975) <br>\n",
    "1.959963984540054<br>\n",
    "st.norm.ppf(.025)<br>\n",
    "-1.960063984540054<br>\n",
    "<img src=\"img/c3.png\" alt=\"title\" > "
   ]
  },
  {
   "cell_type": "code",
   "execution_count": 26,
   "metadata": {
    "collapsed": false,
    "scrolled": true
   },
   "outputs": [
    {
     "data": {
      "image/png": "[encoded data removed]",
      "text/plain": [
       "<matplotlib.figure.Figure at 0x7f61a04b8190>"
      ]
     },
     "metadata": {},
     "output_type": "display_data"
    },
    {
     "name": "stdout",
     "output_type": "stream",
     "text": [
      "1.64485362695\n",
      "5822\n"
     ]
    }
   ],
   "source": [
    "loc=0\n",
    "scale=1\n",
    "x=np.linspace(-10,10,10000)\n",
    "standart_samples_norm=norm.pdf(x, loc, scale)\n",
    "plt.plot(x,standart_samples_norm)\n",
    "\n",
    "plt.fill_between(x[:sum(x<x95)], standart_samples_norm[:sum(x<x95)], 0)\n",
    "plt.show()\n",
    "x95= norm.ppf(.95)\n",
    "print x95\n",
    "print sum(x<x95)"
   ]
  },
  {
   "cell_type": "code",
   "execution_count": null,
   "metadata": {
    "collapsed": true
   },
   "outputs": [],
   "source": []
  }
 ],
 "metadata": {
  "anaconda-cloud": {},
  "kernelspec": {
   "display_name": "Python [default]",
   "language": "python",
   "name": "python2"
  },
  "language_info": {
   "codemirror_mode": {
    "name": "ipython",
    "version": 2
   },
   "file_extension": ".py",
   "mimetype": "text/x-python",
   "name": "python",
   "nbconvert_exporter": "python",
   "pygments_lexer": "ipython2",
   "version": "2.7.12"
  }
 },
 "nbformat": 4,
 "nbformat_minor": 0
}
