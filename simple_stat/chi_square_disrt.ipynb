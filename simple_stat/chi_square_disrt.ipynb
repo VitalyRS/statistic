{
 "cells": [
  {
   "cell_type": "markdown",
   "metadata": {},
   "source": [
    "<img src=\"img/s6.png\">"
   ]
  },
  {
   "cell_type": "code",
   "execution_count": 3,
   "metadata": {
    "collapsed": true
   },
   "outputs": [],
   "source": [
    "import numpy as np\n",
    "import seaborn as sns\n",
    "import matplotlib.pyplot as plt\n",
    "from  scipy.stats import norm\n",
    "from scipy.stats import chi2\n",
    "%matplotlib inline \n",
    "\n",
    "\n",
    "x=np.linspace(0,70,1000)\n",
    "loc=0\n",
    "scale=1\n",
    "\n",
    "\n"
   ]
  },
  {
   "cell_type": "code",
   "execution_count": 9,
   "metadata": {
    "collapsed": false
   },
   "outputs": [
    {
     "data": {
      "image/png": "[encoded data removed]",
      "text/plain": [
       "<matplotlib.figure.Figure at 0x7fdb59a91810>"
      ]
     },
     "metadata": {},
     "output_type": "display_data"
    }
   ],
   "source": [
    "df=2\n",
    "standart_samples_chi2=chi2.pdf(x,df, loc, scale)\n",
    "plt.plot(x,standart_samples_chi2,label=str(df))\n",
    "\n",
    "\n",
    "# df=2\n",
    "# standart_samples_t=t.pdf(x,df, loc, scale)\n",
    "# plt.plot(x,standart_samples_t,label=str(df))\n",
    "\n",
    "df=5\n",
    "standart_samples_chi2=chi2.pdf(x,df, loc, scale)\n",
    "plt.plot(x,standart_samples_chi2,label=str(df))\n",
    "\n",
    "\n",
    "\n",
    "df=18\n",
    "standart_samples_chi2=chi2.pdf(x,df, loc, scale)\n",
    "plt.plot(x,standart_samples_chi2,label=str(df))\n",
    "\n",
    "\n",
    "df=30\n",
    "standart_samples_chi2=chi2.pdf(x,df, loc, scale)\n",
    "plt.plot(x,standart_samples_chi2,label=str(df))\n",
    "\n",
    "\n",
    "# plt.plot(x,standart_samples_norm,label=\"normal\")\n",
    "\n",
    "\n",
    "\n",
    "plt.legend()\n",
    "\n",
    "# plt.plot(x,standart_samples_norm)\n",
    "\n",
    "plt.title(\"t-distr vs normal gaussian\")\n",
    "plt.show()\n"
   ]
  },
  {
   "cell_type": "code",
   "execution_count": 8,
   "metadata": {
    "collapsed": false
   },
   "outputs": [
    {
     "data": {
      "text/plain": [
       "(7.564186449577571, 30.191009121639802)"
      ]
     },
     "execution_count": 8,
     "metadata": {},
     "output_type": "execute_result"
    }
   ],
   "source": [
    "alpha=0.95\n",
    "df=17\n",
    "chi2.interval(alpha,df)"
   ]
  },
  {
   "cell_type": "code",
   "execution_count": null,
   "metadata": {
    "collapsed": true
   },
   "outputs": [],
   "source": []
  }
 ],
 "metadata": {
  "anaconda-cloud": {},
  "kernelspec": {
   "display_name": "Python [conda root]",
   "language": "python",
   "name": "conda-root-py"
  },
  "language_info": {
   "codemirror_mode": {
    "name": "ipython",
    "version": 2
   },
   "file_extension": ".py",
   "mimetype": "text/x-python",
   "name": "python",
   "nbconvert_exporter": "python",
   "pygments_lexer": "ipython2",
   "version": "2.7.12"
  }
 },
 "nbformat": 4,
 "nbformat_minor": 0
}
